{
 "cells": [
  {
   "cell_type": "markdown",
   "id": "809ce8cc-d2aa-4fcb-8dfc-0567f0feb289",
   "metadata": {},
   "source": [
    "# Импорты и фиксация"
   ]
  },
  {
   "cell_type": "code",
   "execution_count": 1,
   "id": "3574a380-e9be-4ada-89d5-9542f0007141",
   "metadata": {},
   "outputs": [],
   "source": [
    "import pandas as pd\n",
    "import numpy as np\n",
    "import matplotlib.pyplot as plt\n",
    "import seaborn as sns\n",
    "\n",
    "from sklearn.model_selection import train_test_split\n",
    "from sklearn.preprocessing import StandardScaler\n",
    "from sklearn.metrics import accuracy_score \n",
    "from sklearn.linear_model import LinearRegression\n",
    "from sklearn.ensemble import GradientBoostingClassifier\n",
    "from sklearn.metrics import roc_auc_score\n",
    "\n",
    "import torch\n",
    "from torch import nn\n",
    "\n",
    "from imblearn.over_sampling import SMOTE"
   ]
  },
  {
   "cell_type": "code",
   "execution_count": 2,
   "id": "2e3e953b-5613-4776-b1b6-9b4d3c96873f",
   "metadata": {},
   "outputs": [
    {
     "data": {
      "text/plain": [
       "<torch._C.Generator at 0x15f265b7290>"
      ]
     },
     "execution_count": 2,
     "metadata": {},
     "output_type": "execute_result"
    }
   ],
   "source": [
    "seed = 42\n",
    "torch.manual_seed(seed)"
   ]
  },
  {
   "cell_type": "markdown",
   "id": "3f8a8714-e92f-4ac3-9dd8-231214a095fd",
   "metadata": {},
   "source": [
    "# Загрузка и демонстрация данных"
   ]
  },
  {
   "cell_type": "code",
   "execution_count": 3,
   "id": "1bd25d39-432e-4b41-9652-793adfe1778d",
   "metadata": {},
   "outputs": [],
   "source": [
    "dir = 'D:/Книги/Программирование/ML_contests_хакатоны/data_secrets_first_cup/'\n",
    "\n",
    "train_features_target_clean = pd.read_csv(dir + 'train_features_target_filled.csv')\n",
    "test_features_filled = pd.read_csv(dir + 'test_features_filled.csv')"
   ]
  },
  {
   "cell_type": "code",
   "execution_count": 4,
   "id": "0c97d950-27e0-43cf-9407-11afea9d3c5c",
   "metadata": {},
   "outputs": [
    {
     "data": {
      "text/html": [
       "<div>\n",
       "<style scoped>\n",
       "    .dataframe tbody tr th:only-of-type {\n",
       "        vertical-align: middle;\n",
       "    }\n",
       "\n",
       "    .dataframe tbody tr th {\n",
       "        vertical-align: top;\n",
       "    }\n",
       "\n",
       "    .dataframe thead th {\n",
       "        text-align: right;\n",
       "    }\n",
       "</style>\n",
       "<table border=\"1\" class=\"dataframe\">\n",
       "  <thead>\n",
       "    <tr style=\"text-align: right;\">\n",
       "      <th></th>\n",
       "      <th>Id</th>\n",
       "      <th>OrderType</th>\n",
       "      <th>apply_promo</th>\n",
       "      <th>DiscountPercentPromo</th>\n",
       "      <th>MedianDiscountPercentNovemberPromo</th>\n",
       "      <th>MaxDiscountPercentNovemberPromo</th>\n",
       "      <th>NewClient1</th>\n",
       "      <th>OrderMedianPrice</th>\n",
       "      <th>OrderMinPrice</th>\n",
       "      <th>OrderMaxPrice</th>\n",
       "      <th>...</th>\n",
       "      <th>addressIdMain</th>\n",
       "      <th>deliverySectorIdMain</th>\n",
       "      <th>ClientOrderMaxNumber</th>\n",
       "      <th>CategoryIdMain</th>\n",
       "      <th>OrderTypeMain</th>\n",
       "      <th>WeekBalance</th>\n",
       "      <th>PlatformMain</th>\n",
       "      <th>ApplyedPromoBalance</th>\n",
       "      <th>MedianDiscountPercentPromo</th>\n",
       "      <th>MaxDiscountPercentPromo</th>\n",
       "    </tr>\n",
       "  </thead>\n",
       "  <tbody>\n",
       "    <tr>\n",
       "      <th>count</th>\n",
       "      <td>27741.000000</td>\n",
       "      <td>27741.000000</td>\n",
       "      <td>27741.000000</td>\n",
       "      <td>27741.000000</td>\n",
       "      <td>27741.000000</td>\n",
       "      <td>27741.000000</td>\n",
       "      <td>27741.000000</td>\n",
       "      <td>27741.000000</td>\n",
       "      <td>27741.000000</td>\n",
       "      <td>27741.000000</td>\n",
       "      <td>...</td>\n",
       "      <td>2.774100e+04</td>\n",
       "      <td>27741.000000</td>\n",
       "      <td>27741.000000</td>\n",
       "      <td>27741.000000</td>\n",
       "      <td>27741.000000</td>\n",
       "      <td>27741.000000</td>\n",
       "      <td>27741.000000</td>\n",
       "      <td>27741.000000</td>\n",
       "      <td>27741.000000</td>\n",
       "      <td>27741.000000</td>\n",
       "    </tr>\n",
       "    <tr>\n",
       "      <th>mean</th>\n",
       "      <td>6.089831</td>\n",
       "      <td>1.585956</td>\n",
       "      <td>0.029811</td>\n",
       "      <td>17.479973</td>\n",
       "      <td>17.479973</td>\n",
       "      <td>20.832375</td>\n",
       "      <td>0.003893</td>\n",
       "      <td>952.090101</td>\n",
       "      <td>413.013734</td>\n",
       "      <td>1543.111604</td>\n",
       "      <td>...</td>\n",
       "      <td>2.422997e+04</td>\n",
       "      <td>7.155690</td>\n",
       "      <td>48.390577</td>\n",
       "      <td>1.626473</td>\n",
       "      <td>1.207491</td>\n",
       "      <td>0.333762</td>\n",
       "      <td>0.747233</td>\n",
       "      <td>0.140397</td>\n",
       "      <td>12.664356</td>\n",
       "      <td>25.205737</td>\n",
       "    </tr>\n",
       "    <tr>\n",
       "      <th>std</th>\n",
       "      <td>0.861960</td>\n",
       "      <td>0.492565</td>\n",
       "      <td>0.170070</td>\n",
       "      <td>9.066232</td>\n",
       "      <td>7.489770</td>\n",
       "      <td>7.546295</td>\n",
       "      <td>0.062275</td>\n",
       "      <td>922.479219</td>\n",
       "      <td>237.467209</td>\n",
       "      <td>1086.441548</td>\n",
       "      <td>...</td>\n",
       "      <td>5.763461e+05</td>\n",
       "      <td>177.561553</td>\n",
       "      <td>36.940131</td>\n",
       "      <td>1.186586</td>\n",
       "      <td>0.609812</td>\n",
       "      <td>0.154723</td>\n",
       "      <td>0.434606</td>\n",
       "      <td>0.169384</td>\n",
       "      <td>5.561731</td>\n",
       "      <td>1.737445</td>\n",
       "    </tr>\n",
       "    <tr>\n",
       "      <th>min</th>\n",
       "      <td>5.000000</td>\n",
       "      <td>1.000000</td>\n",
       "      <td>0.000000</td>\n",
       "      <td>1.200961</td>\n",
       "      <td>1.200961</td>\n",
       "      <td>1.200961</td>\n",
       "      <td>0.000000</td>\n",
       "      <td>0.000000</td>\n",
       "      <td>0.000000</td>\n",
       "      <td>0.000000</td>\n",
       "      <td>...</td>\n",
       "      <td>0.000000e+00</td>\n",
       "      <td>0.000000</td>\n",
       "      <td>10.000000</td>\n",
       "      <td>1.000000</td>\n",
       "      <td>1.000000</td>\n",
       "      <td>0.000000</td>\n",
       "      <td>0.000000</td>\n",
       "      <td>0.000000</td>\n",
       "      <td>1.053741</td>\n",
       "      <td>1.668057</td>\n",
       "    </tr>\n",
       "    <tr>\n",
       "      <th>25%</th>\n",
       "      <td>5.000000</td>\n",
       "      <td>1.000000</td>\n",
       "      <td>0.000000</td>\n",
       "      <td>14.299333</td>\n",
       "      <td>11.676898</td>\n",
       "      <td>20.016013</td>\n",
       "      <td>0.000000</td>\n",
       "      <td>873.000000</td>\n",
       "      <td>369.000000</td>\n",
       "      <td>1369.000000</td>\n",
       "      <td>...</td>\n",
       "      <td>0.000000e+00</td>\n",
       "      <td>0.000000</td>\n",
       "      <td>38.000000</td>\n",
       "      <td>1.000000</td>\n",
       "      <td>1.000000</td>\n",
       "      <td>0.303571</td>\n",
       "      <td>0.000000</td>\n",
       "      <td>0.063830</td>\n",
       "      <td>11.343120</td>\n",
       "      <td>25.031289</td>\n",
       "    </tr>\n",
       "    <tr>\n",
       "      <th>50%</th>\n",
       "      <td>6.000000</td>\n",
       "      <td>2.000000</td>\n",
       "      <td>0.000000</td>\n",
       "      <td>20.016013</td>\n",
       "      <td>20.522050</td>\n",
       "      <td>25.031289</td>\n",
       "      <td>0.000000</td>\n",
       "      <td>907.000000</td>\n",
       "      <td>416.000000</td>\n",
       "      <td>1419.000000</td>\n",
       "      <td>...</td>\n",
       "      <td>0.000000e+00</td>\n",
       "      <td>0.000000</td>\n",
       "      <td>41.000000</td>\n",
       "      <td>1.000000</td>\n",
       "      <td>1.000000</td>\n",
       "      <td>0.322581</td>\n",
       "      <td>1.000000</td>\n",
       "      <td>0.093750</td>\n",
       "      <td>13.678500</td>\n",
       "      <td>25.031289</td>\n",
       "    </tr>\n",
       "    <tr>\n",
       "      <th>75%</th>\n",
       "      <td>7.000000</td>\n",
       "      <td>2.000000</td>\n",
       "      <td>0.000000</td>\n",
       "      <td>25.031289</td>\n",
       "      <td>22.525655</td>\n",
       "      <td>25.031289</td>\n",
       "      <td>0.000000</td>\n",
       "      <td>943.000000</td>\n",
       "      <td>459.000000</td>\n",
       "      <td>1475.000000</td>\n",
       "      <td>...</td>\n",
       "      <td>0.000000e+00</td>\n",
       "      <td>0.000000</td>\n",
       "      <td>44.000000</td>\n",
       "      <td>2.000000</td>\n",
       "      <td>1.000000</td>\n",
       "      <td>0.344262</td>\n",
       "      <td>1.000000</td>\n",
       "      <td>0.117647</td>\n",
       "      <td>15.806112</td>\n",
       "      <td>25.031289</td>\n",
       "    </tr>\n",
       "    <tr>\n",
       "      <th>max</th>\n",
       "      <td>7.000000</td>\n",
       "      <td>2.000000</td>\n",
       "      <td>1.000000</td>\n",
       "      <td>35.335689</td>\n",
       "      <td>33.388982</td>\n",
       "      <td>35.335689</td>\n",
       "      <td>1.000000</td>\n",
       "      <td>99418.000000</td>\n",
       "      <td>2619.000000</td>\n",
       "      <td>99418.000000</td>\n",
       "      <td>...</td>\n",
       "      <td>1.809301e+07</td>\n",
       "      <td>6571.000000</td>\n",
       "      <td>944.000000</td>\n",
       "      <td>7.000000</td>\n",
       "      <td>3.000000</td>\n",
       "      <td>1.000000</td>\n",
       "      <td>1.000000</td>\n",
       "      <td>1.000000</td>\n",
       "      <td>26.820531</td>\n",
       "      <td>35.335689</td>\n",
       "    </tr>\n",
       "  </tbody>\n",
       "</table>\n",
       "<p>8 rows × 23 columns</p>\n",
       "</div>"
      ],
      "text/plain": [
       "                 Id     OrderType   apply_promo  DiscountPercentPromo  \\\n",
       "count  27741.000000  27741.000000  27741.000000          27741.000000   \n",
       "mean       6.089831      1.585956      0.029811             17.479973   \n",
       "std        0.861960      0.492565      0.170070              9.066232   \n",
       "min        5.000000      1.000000      0.000000              1.200961   \n",
       "25%        5.000000      1.000000      0.000000             14.299333   \n",
       "50%        6.000000      2.000000      0.000000             20.016013   \n",
       "75%        7.000000      2.000000      0.000000             25.031289   \n",
       "max        7.000000      2.000000      1.000000             35.335689   \n",
       "\n",
       "       MedianDiscountPercentNovemberPromo  MaxDiscountPercentNovemberPromo  \\\n",
       "count                        27741.000000                     27741.000000   \n",
       "mean                            17.479973                        20.832375   \n",
       "std                              7.489770                         7.546295   \n",
       "min                              1.200961                         1.200961   \n",
       "25%                             11.676898                        20.016013   \n",
       "50%                             20.522050                        25.031289   \n",
       "75%                             22.525655                        25.031289   \n",
       "max                             33.388982                        35.335689   \n",
       "\n",
       "         NewClient1  OrderMedianPrice  OrderMinPrice  OrderMaxPrice  ...  \\\n",
       "count  27741.000000      27741.000000   27741.000000   27741.000000  ...   \n",
       "mean       0.003893        952.090101     413.013734    1543.111604  ...   \n",
       "std        0.062275        922.479219     237.467209    1086.441548  ...   \n",
       "min        0.000000          0.000000       0.000000       0.000000  ...   \n",
       "25%        0.000000        873.000000     369.000000    1369.000000  ...   \n",
       "50%        0.000000        907.000000     416.000000    1419.000000  ...   \n",
       "75%        0.000000        943.000000     459.000000    1475.000000  ...   \n",
       "max        1.000000      99418.000000    2619.000000   99418.000000  ...   \n",
       "\n",
       "       addressIdMain  deliverySectorIdMain  ClientOrderMaxNumber  \\\n",
       "count   2.774100e+04          27741.000000          27741.000000   \n",
       "mean    2.422997e+04              7.155690             48.390577   \n",
       "std     5.763461e+05            177.561553             36.940131   \n",
       "min     0.000000e+00              0.000000             10.000000   \n",
       "25%     0.000000e+00              0.000000             38.000000   \n",
       "50%     0.000000e+00              0.000000             41.000000   \n",
       "75%     0.000000e+00              0.000000             44.000000   \n",
       "max     1.809301e+07           6571.000000            944.000000   \n",
       "\n",
       "       CategoryIdMain  OrderTypeMain   WeekBalance  PlatformMain  \\\n",
       "count    27741.000000   27741.000000  27741.000000  27741.000000   \n",
       "mean         1.626473       1.207491      0.333762      0.747233   \n",
       "std          1.186586       0.609812      0.154723      0.434606   \n",
       "min          1.000000       1.000000      0.000000      0.000000   \n",
       "25%          1.000000       1.000000      0.303571      0.000000   \n",
       "50%          1.000000       1.000000      0.322581      1.000000   \n",
       "75%          2.000000       1.000000      0.344262      1.000000   \n",
       "max          7.000000       3.000000      1.000000      1.000000   \n",
       "\n",
       "       ApplyedPromoBalance  MedianDiscountPercentPromo  \\\n",
       "count         27741.000000                27741.000000   \n",
       "mean              0.140397                   12.664356   \n",
       "std               0.169384                    5.561731   \n",
       "min               0.000000                    1.053741   \n",
       "25%               0.063830                   11.343120   \n",
       "50%               0.093750                   13.678500   \n",
       "75%               0.117647                   15.806112   \n",
       "max               1.000000                   26.820531   \n",
       "\n",
       "       MaxDiscountPercentPromo  \n",
       "count             27741.000000  \n",
       "mean                 25.205737  \n",
       "std                   1.737445  \n",
       "min                   1.668057  \n",
       "25%                  25.031289  \n",
       "50%                  25.031289  \n",
       "75%                  25.031289  \n",
       "max                  35.335689  \n",
       "\n",
       "[8 rows x 23 columns]"
      ]
     },
     "execution_count": 4,
     "metadata": {},
     "output_type": "execute_result"
    }
   ],
   "source": [
    "train_features_target_clean.describe()"
   ]
  },
  {
   "cell_type": "code",
   "execution_count": 5,
   "id": "784efae4-f8a5-469a-9bda-64438a05992c",
   "metadata": {},
   "outputs": [
    {
     "data": {
      "text/plain": [
       "apply_promo\n",
       "0    26914\n",
       "1      827\n",
       "Name: count, dtype: int64"
      ]
     },
     "execution_count": 5,
     "metadata": {},
     "output_type": "execute_result"
    }
   ],
   "source": [
    "train_features_target_clean.apply_promo.value_counts()"
   ]
  },
  {
   "cell_type": "code",
   "execution_count": 6,
   "id": "1e01f257-b167-472f-b63e-41c1700efbb9",
   "metadata": {},
   "outputs": [
    {
     "data": {
      "text/html": [
       "<div>\n",
       "<style scoped>\n",
       "    .dataframe tbody tr th:only-of-type {\n",
       "        vertical-align: middle;\n",
       "    }\n",
       "\n",
       "    .dataframe tbody tr th {\n",
       "        vertical-align: top;\n",
       "    }\n",
       "\n",
       "    .dataframe thead th {\n",
       "        text-align: right;\n",
       "    }\n",
       "</style>\n",
       "<table border=\"1\" class=\"dataframe\">\n",
       "  <thead>\n",
       "    <tr style=\"text-align: right;\">\n",
       "      <th></th>\n",
       "      <th>Id</th>\n",
       "      <th>OrderType</th>\n",
       "      <th>DiscountPercentPromo</th>\n",
       "      <th>MedianDiscountPercentNovemberPromo</th>\n",
       "      <th>MaxDiscountPercentNovemberPromo</th>\n",
       "      <th>NewClient1</th>\n",
       "      <th>OrderMedianPrice</th>\n",
       "      <th>OrderMinPrice</th>\n",
       "      <th>OrderMaxPrice</th>\n",
       "      <th>MedianDiscountPercent</th>\n",
       "      <th>...</th>\n",
       "      <th>addressIdMain</th>\n",
       "      <th>deliverySectorIdMain</th>\n",
       "      <th>ClientOrderMaxNumber</th>\n",
       "      <th>CategoryIdMain</th>\n",
       "      <th>OrderTypeMain</th>\n",
       "      <th>WeekBalance</th>\n",
       "      <th>PlatformMain</th>\n",
       "      <th>ApplyedPromoBalance</th>\n",
       "      <th>MedianDiscountPercentPromo</th>\n",
       "      <th>MaxDiscountPercentPromo</th>\n",
       "    </tr>\n",
       "  </thead>\n",
       "  <tbody>\n",
       "    <tr>\n",
       "      <th>0</th>\n",
       "      <td>7</td>\n",
       "      <td>2</td>\n",
       "      <td>25.031289</td>\n",
       "      <td>25.031289</td>\n",
       "      <td>25.031289</td>\n",
       "      <td>0.0</td>\n",
       "      <td>544.0</td>\n",
       "      <td>330.0</td>\n",
       "      <td>758.0</td>\n",
       "      <td>0.000000</td>\n",
       "      <td>...</td>\n",
       "      <td>0.0</td>\n",
       "      <td>0.0</td>\n",
       "      <td>49.0</td>\n",
       "      <td>1.0</td>\n",
       "      <td>1.0</td>\n",
       "      <td>0.666667</td>\n",
       "      <td>0.0</td>\n",
       "      <td>0.066667</td>\n",
       "      <td>14.460512</td>\n",
       "      <td>25.031289</td>\n",
       "    </tr>\n",
       "    <tr>\n",
       "      <th>1</th>\n",
       "      <td>5</td>\n",
       "      <td>2</td>\n",
       "      <td>28.612303</td>\n",
       "      <td>28.612303</td>\n",
       "      <td>28.612303</td>\n",
       "      <td>0.0</td>\n",
       "      <td>906.0</td>\n",
       "      <td>399.0</td>\n",
       "      <td>2419.0</td>\n",
       "      <td>14.969811</td>\n",
       "      <td>...</td>\n",
       "      <td>0.0</td>\n",
       "      <td>0.0</td>\n",
       "      <td>102.0</td>\n",
       "      <td>3.0</td>\n",
       "      <td>1.0</td>\n",
       "      <td>0.586207</td>\n",
       "      <td>1.0</td>\n",
       "      <td>0.465517</td>\n",
       "      <td>4.291845</td>\n",
       "      <td>30.030030</td>\n",
       "    </tr>\n",
       "  </tbody>\n",
       "</table>\n",
       "<p>2 rows × 22 columns</p>\n",
       "</div>"
      ],
      "text/plain": [
       "   Id  OrderType  DiscountPercentPromo  MedianDiscountPercentNovemberPromo  \\\n",
       "0   7          2             25.031289                           25.031289   \n",
       "1   5          2             28.612303                           28.612303   \n",
       "\n",
       "   MaxDiscountPercentNovemberPromo  NewClient1  OrderMedianPrice  \\\n",
       "0                        25.031289         0.0             544.0   \n",
       "1                        28.612303         0.0             906.0   \n",
       "\n",
       "   OrderMinPrice  OrderMaxPrice  MedianDiscountPercent  ...  addressIdMain  \\\n",
       "0          330.0          758.0               0.000000  ...            0.0   \n",
       "1          399.0         2419.0              14.969811  ...            0.0   \n",
       "\n",
       "   deliverySectorIdMain  ClientOrderMaxNumber  CategoryIdMain  OrderTypeMain  \\\n",
       "0                   0.0                  49.0             1.0            1.0   \n",
       "1                   0.0                 102.0             3.0            1.0   \n",
       "\n",
       "   WeekBalance  PlatformMain  ApplyedPromoBalance  MedianDiscountPercentPromo  \\\n",
       "0     0.666667           0.0             0.066667                   14.460512   \n",
       "1     0.586207           1.0             0.465517                    4.291845   \n",
       "\n",
       "   MaxDiscountPercentPromo  \n",
       "0                25.031289  \n",
       "1                30.030030  \n",
       "\n",
       "[2 rows x 22 columns]"
      ]
     },
     "execution_count": 6,
     "metadata": {},
     "output_type": "execute_result"
    }
   ],
   "source": [
    "test_features_filled.head(2)"
   ]
  },
  {
   "cell_type": "code",
   "execution_count": 7,
   "id": "778af86f-f7c5-4821-b4b8-5eaecacc631b",
   "metadata": {},
   "outputs": [
    {
     "data": {
      "text/plain": [
       "((27741, 23), (6806, 22))"
      ]
     },
     "execution_count": 7,
     "metadata": {},
     "output_type": "execute_result"
    }
   ],
   "source": [
    "train_features_target_clean.shape, test_features_filled.shape"
   ]
  },
  {
   "cell_type": "code",
   "execution_count": 8,
   "id": "3813745c-08bb-4089-9c65-ee60273086b1",
   "metadata": {},
   "outputs": [
    {
     "data": {
      "text/plain": [
       "Index(['Id', 'OrderType', 'apply_promo', 'DiscountPercentPromo',\n",
       "       'MedianDiscountPercentNovemberPromo', 'MaxDiscountPercentNovemberPromo',\n",
       "       'NewClient1', 'OrderMedianPrice', 'OrderMinPrice', 'OrderMaxPrice',\n",
       "       'MedianDiscountPercent', 'ProductUUIdCount', 'ProductUUIdMedian',\n",
       "       'addressIdMain', 'deliverySectorIdMain', 'ClientOrderMaxNumber',\n",
       "       'CategoryIdMain', 'OrderTypeMain', 'WeekBalance', 'PlatformMain',\n",
       "       'ApplyedPromoBalance', 'MedianDiscountPercentPromo',\n",
       "       'MaxDiscountPercentPromo'],\n",
       "      dtype='object')"
      ]
     },
     "execution_count": 8,
     "metadata": {},
     "output_type": "execute_result"
    }
   ],
   "source": [
    "train_features_target_clean.columns"
   ]
  },
  {
   "cell_type": "markdown",
   "id": "da7e1057-7fc3-4a57-9031-c53ed5ec5db1",
   "metadata": {},
   "source": [
    "# Подготовка датасета перед обучением"
   ]
  },
  {
   "cell_type": "code",
   "execution_count": 9,
   "id": "57db6202-1af6-47dc-87c1-b220ff432bd4",
   "metadata": {},
   "outputs": [],
   "source": [
    "X = train_features_target_clean.drop('apply_promo', axis=1)\n",
    "y = train_features_target_clean['apply_promo']"
   ]
  },
  {
   "cell_type": "code",
   "execution_count": 10,
   "id": "50d6f2af-5228-49d7-b034-78b376b32cf4",
   "metadata": {},
   "outputs": [],
   "source": [
    "# разбиваем тренировочную выборку на тренировочную и валидационную в соотношении 75/25\n",
    "X_train, X_val, y_train, y_val = train_test_split(X, y, random_state=42)"
   ]
  },
  {
   "cell_type": "code",
   "execution_count": 11,
   "id": "11985a7e-ebe8-4b5d-ba24-30ee9170c4a7",
   "metadata": {},
   "outputs": [
    {
     "data": {
      "text/plain": [
       "apply_promo\n",
       "0    20190\n",
       "1      615\n",
       "Name: count, dtype: int64"
      ]
     },
     "execution_count": 11,
     "metadata": {},
     "output_type": "execute_result"
    }
   ],
   "source": [
    "y_train.value_counts()"
   ]
  },
  {
   "cell_type": "code",
   "execution_count": 12,
   "id": "284b87f8-7e68-4430-befc-3bfa55d0d983",
   "metadata": {},
   "outputs": [],
   "source": [
    "X_test = test_features_filled.copy()"
   ]
  },
  {
   "cell_type": "code",
   "execution_count": 13,
   "id": "8b9d6462-d610-47d4-b8de-859ab09ad208",
   "metadata": {},
   "outputs": [
    {
     "name": "stdout",
     "output_type": "stream",
     "text": [
      "Размерность тренировочной выборки: (20805, 22)\n",
      "Размерность валидационной: (6936, 22)\n",
      "Размерность тестовой: (6806, 22)\n"
     ]
    }
   ],
   "source": [
    "print(f'Размерность тренировочной выборки: {X_train.shape}')\n",
    "print(f'Размерность валидационной: {X_val.shape}')\n",
    "print(f'Размерность тестовой: {X_test.shape}')"
   ]
  },
  {
   "cell_type": "code",
   "execution_count": 14,
   "id": "91e5cf29-7bfd-4b4c-a557-920b3f5d89b9",
   "metadata": {},
   "outputs": [],
   "source": [
    "# Стандартизация\n",
    "scaler = StandardScaler()\n",
    "\n",
    "X_train = scaler.fit_transform(X_train)\n",
    "X_val = scaler.transform(X_val)\n",
    "X_test = scaler.transform(X_test)"
   ]
  },
  {
   "cell_type": "code",
   "execution_count": 15,
   "id": "9eff486a-8e06-4716-b21b-5148fb5b0676",
   "metadata": {},
   "outputs": [
    {
     "data": {
      "text/plain": [
       "array([[ 1.05195527,  0.83975479,  0.82905063, ...,  2.85039941,\n",
       "         0.93552414, -0.10227114],\n",
       "       [-0.10774849,  0.83975479, -1.65699668, ...,  3.67333459,\n",
       "        -0.25608534, -0.10227114],\n",
       "       [ 1.05195527,  0.83975479,  0.82905063, ..., -0.27891992,\n",
       "         0.17996183, -0.10227114],\n",
       "       ...,\n",
       "       [ 1.05195527, -1.19082382,  0.27560045, ..., -0.27891992,\n",
       "         0.17996183, -0.10227114],\n",
       "       [-0.10774849,  0.83975479, -1.65699668, ..., -0.83115274,\n",
       "         0.87200079, -0.10227114],\n",
       "       [ 1.05195527,  0.83975479,  0.82905063, ..., -0.27891992,\n",
       "         0.17996183, -0.10227114]])"
      ]
     },
     "execution_count": 15,
     "metadata": {},
     "output_type": "execute_result"
    }
   ],
   "source": [
    "X_val"
   ]
  },
  {
   "cell_type": "code",
   "execution_count": 16,
   "id": "5b860be4-e3d0-4a86-a10a-f30ec8bec6ce",
   "metadata": {},
   "outputs": [],
   "source": [
    "# Преобразование данных в тензоры\n",
    "X_train = torch.Tensor(X_train).float()\n",
    "y_train = torch.Tensor(y_train.values).long()\n",
    "X_val = torch.Tensor(X_val).float()\n",
    "y_val = torch.Tensor(y_val.values).long()\n",
    "X_test = torch.Tensor(X_test).float()"
   ]
  },
  {
   "cell_type": "markdown",
   "id": "a5d8461c-5639-4498-a1ae-3492b79f03d4",
   "metadata": {},
   "source": [
    "# Полносвязная на исходных данных"
   ]
  },
  {
   "cell_type": "code",
   "execution_count": 17,
   "id": "926cda60-2a05-4c80-a261-a1a7f924b04f",
   "metadata": {},
   "outputs": [],
   "source": [
    "def train(model, X_train, y_train, loss_fn, optimizer, epochs=1000):\n",
    "    model.train()\n",
    "    for epoch in range(epochs):\n",
    "        optimizer.zero_grad()\n",
    "        output = model(X_train)\n",
    "        loss = loss_fn(output, y_train.unsqueeze(1))  # изменяем форму y_train\n",
    "        loss.backward()\n",
    "        optimizer.step()\n",
    "        if epoch % 100 == 0:\n",
    "            print(f'Epoch {epoch}, Loss: {loss.item()}')\n",
    "    return model\n",
    "\n",
    "def evaluate(model, X_val, y_val, loss_fn):\n",
    "    model.eval()\n",
    "    with torch.no_grad():\n",
    "        output = model(X_val)\n",
    "        loss = loss_fn(output, y_val.unsqueeze(1))  # изменяем форму y_val\n",
    "\n",
    "        return output, loss"
   ]
  },
  {
   "cell_type": "code",
   "execution_count": 18,
   "id": "59bec78f-8db8-4a41-91c1-9d21717b90ef",
   "metadata": {},
   "outputs": [],
   "source": [
    "# Архитектура\n",
    "class Classifier(nn.Module):\n",
    "    def __init__(self):\n",
    "        super().__init__()\n",
    "        self.linear1 = nn.Linear(in_features=22, out_features=128)  # на вход 22 признака, преобразуем в 128\n",
    "        self.tanh = nn.Tanh()\n",
    "        self.relu = nn.ReLU()\n",
    "        self.linear2 = nn.Linear(in_features=128, out_features=1)  # один выход для вероятности класса\n",
    "        self.sigmoid = nn.Sigmoid()  # Для предсказания вероятности выбираю сигмоиду\n",
    "\n",
    "    def forward(self, x):\n",
    "        x = self.tanh(self.linear1(x))  # сначала Tanh\n",
    "        x = self.relu(x)                # затем ReLU\n",
    "        x = self.linear2(x)\n",
    "        x = self.sigmoid(x)\n",
    "        return x\n",
    "\n",
    "model = Classifier()"
   ]
  },
  {
   "cell_type": "code",
   "execution_count": 19,
   "id": "9a0a13e2-f05c-495c-98d0-463b6b5af866",
   "metadata": {},
   "outputs": [],
   "source": [
    "# Используем BCELoss вместо CrossEntropyLoss\n",
    "loss_fn = nn.BCELoss()\n",
    "\n",
    "# Команда для тренировки\n",
    "optimizer = torch.optim.Adam(model.parameters(), lr=0.0001)"
   ]
  },
  {
   "cell_type": "code",
   "execution_count": 20,
   "id": "0687d0de-3733-4646-826e-d9b4e8dc112c",
   "metadata": {},
   "outputs": [],
   "source": [
    "y_train = y_train.float()\n",
    "y_val = y_val.float()"
   ]
  },
  {
   "cell_type": "code",
   "execution_count": 21,
   "id": "f720e6b3-9daf-4fca-b1b3-4dc322f2e501",
   "metadata": {},
   "outputs": [
    {
     "name": "stdout",
     "output_type": "stream",
     "text": [
      "Epoch 0, Loss: 0.7200134992599487\n",
      "Epoch 100, Loss: 0.58278888463974\n",
      "Epoch 200, Loss: 0.47507551312446594\n",
      "Epoch 300, Loss: 0.3899119198322296\n",
      "Epoch 400, Loss: 0.3232940435409546\n",
      "Epoch 500, Loss: 0.27221906185150146\n",
      "Epoch 600, Loss: 0.23388484120368958\n",
      "Epoch 700, Loss: 0.2054055631160736\n",
      "Epoch 800, Loss: 0.1843692511320114\n",
      "Epoch 900, Loss: 0.16886308789253235\n",
      "Epoch 1000, Loss: 0.15735504031181335\n",
      "Epoch 1100, Loss: 0.14881837368011475\n",
      "Epoch 1200, Loss: 0.14245015382766724\n",
      "Epoch 1300, Loss: 0.13763819634914398\n",
      "Epoch 1400, Loss: 0.13398125767707825\n",
      "Epoch 1500, Loss: 0.13118526339530945\n",
      "Epoch 1600, Loss: 0.1290210783481598\n",
      "Epoch 1700, Loss: 0.12732768058776855\n",
      "Epoch 1800, Loss: 0.12598927319049835\n",
      "Epoch 1900, Loss: 0.12491834908723831\n",
      "Epoch 2000, Loss: 0.12404101341962814\n",
      "Epoch 2100, Loss: 0.12332247942686081\n",
      "Epoch 2200, Loss: 0.12272273004055023\n",
      "Epoch 2300, Loss: 0.1222059428691864\n",
      "Epoch 2400, Loss: 0.1217479482293129\n",
      "Epoch 2500, Loss: 0.12133746594190598\n",
      "Epoch 2600, Loss: 0.12096607685089111\n",
      "Epoch 2700, Loss: 0.12062571197748184\n",
      "Epoch 2800, Loss: 0.12030449509620667\n",
      "Epoch 2900, Loss: 0.12000054121017456\n",
      "Epoch 3000, Loss: 0.11971595138311386\n",
      "Epoch 3100, Loss: 0.11944327503442764\n",
      "Epoch 3200, Loss: 0.11917546391487122\n",
      "Epoch 3300, Loss: 0.11891251057386398\n",
      "Epoch 3400, Loss: 0.11866354197263718\n",
      "tensor([[0.1060],\n",
      "        [0.1984],\n",
      "        [0.0124],\n",
      "        ...,\n",
      "        [0.0142],\n",
      "        [0.0161],\n",
      "        [0.0219]]) tensor(0.1245)\n"
     ]
    }
   ],
   "source": [
    "trained_model = train(model, X_train, y_train, loss_fn, optimizer, epochs=3500)\n",
    "y_preds, val_loss = evaluate(trained_model, X_val, y_val, loss_fn)\n",
    "print(y_preds, val_loss)"
   ]
  },
  {
   "cell_type": "code",
   "execution_count": 22,
   "id": "e2ea1798-c015-4a48-a3f1-67c097e00aab",
   "metadata": {},
   "outputs": [
    {
     "data": {
      "text/plain": [
       "(tensor([[0.1060],\n",
       "         [0.1984],\n",
       "         [0.0124],\n",
       "         ...,\n",
       "         [0.0142],\n",
       "         [0.0161],\n",
       "         [0.0219]]),\n",
       " tensor(0.1245))"
      ]
     },
     "execution_count": 22,
     "metadata": {},
     "output_type": "execute_result"
    }
   ],
   "source": [
    "y_pred = evaluate(trained_model, X_val, y_val, loss_fn)\n",
    "y_pred"
   ]
  },
  {
   "cell_type": "code",
   "execution_count": 23,
   "id": "93861e79-63e5-4d73-a731-66846e2eeb80",
   "metadata": {},
   "outputs": [
    {
     "name": "stdout",
     "output_type": "stream",
     "text": [
      "accuracy: 0.9602076124567474\n"
     ]
    }
   ],
   "source": [
    "# Функция evaluate возвращает кортеж (output, loss), поэтому нужно получить только output\n",
    "y_preds, val_loss = evaluate(trained_model, X_val, y_val, loss_fn)\n",
    "\n",
    "# Преобразование вероятностей в бинарные метки (0 или 1)\n",
    "# Предполагаем, что порог для бинарной классификации равен 0.5\n",
    "y_pred_labels = (y_preds >= 0.155).float()\n",
    "\n",
    "# Вызов функции accuracy_score на векторе предсказанных меток и векторе истинных меток\n",
    "acc = accuracy_score(y_val, y_pred_labels)\n",
    "\n",
    "# Вывод значения accuracy\n",
    "print(f'accuracy: {acc}')"
   ]
  },
  {
   "cell_type": "code",
   "execution_count": 24,
   "id": "5aa26198-ce20-4503-acc0-2b3ad192211d",
   "metadata": {},
   "outputs": [
    {
     "name": "stdout",
     "output_type": "stream",
     "text": [
      "Number of unique labels: 2\n",
      "Unique labels: tensor([0., 1.])\n"
     ]
    }
   ],
   "source": [
    "# Получение уникальных значений в тензоре\n",
    "unique_labels = torch.unique(y_pred_labels)\n",
    "\n",
    "# Подсчет количества уникальных значений\n",
    "num_unique_labels = len(unique_labels)\n",
    "\n",
    "print(f'Number of unique labels: {num_unique_labels}')\n",
    "print(f'Unique labels: {unique_labels}')"
   ]
  },
  {
   "cell_type": "code",
   "execution_count": 25,
   "id": "a9ce5624-e8cd-44ed-a969-ddb2cd5e9f98",
   "metadata": {},
   "outputs": [
    {
     "name": "stdout",
     "output_type": "stream",
     "text": [
      "Number of class 1: 106\n"
     ]
    }
   ],
   "source": [
    "num_ones = torch.sum(y_pred_labels)\n",
    "\n",
    "print(f'Number of class 1: {int(num_ones)}')"
   ]
  },
  {
   "cell_type": "code",
   "execution_count": 26,
   "id": "966788c7-dc45-4b94-a209-52f8ab1a3d00",
   "metadata": {},
   "outputs": [
    {
     "data": {
      "text/plain": [
       "Classifier(\n",
       "  (linear1): Linear(in_features=22, out_features=128, bias=True)\n",
       "  (tanh): Tanh()\n",
       "  (relu): ReLU()\n",
       "  (linear2): Linear(in_features=128, out_features=1, bias=True)\n",
       "  (sigmoid): Sigmoid()\n",
       ")"
      ]
     },
     "execution_count": 26,
     "metadata": {},
     "output_type": "execute_result"
    }
   ],
   "source": [
    "# Находится ли модель в режиме оценки?\n",
    "model.eval()"
   ]
  },
  {
   "cell_type": "code",
   "execution_count": 27,
   "id": "6ae67263-2896-468b-bb8f-a47094c047f4",
   "metadata": {},
   "outputs": [],
   "source": [
    "# Применение модели к тестовым данным и получаем предсказанные вероятности\n",
    "with torch.no_grad():\n",
    "    y_test_preds = model(X_test)"
   ]
  },
  {
   "cell_type": "code",
   "execution_count": 28,
   "id": "7efe3f5e-fd20-4e1c-a937-4724f6a22682",
   "metadata": {},
   "outputs": [
    {
     "data": {
      "text/plain": [
       "tensor([[0.0094],\n",
       "        [0.0446],\n",
       "        [0.0150],\n",
       "        ...,\n",
       "        [0.0277],\n",
       "        [0.1099],\n",
       "        [0.0142]])"
      ]
     },
     "execution_count": 28,
     "metadata": {},
     "output_type": "execute_result"
    }
   ],
   "source": [
    "y_test_preds"
   ]
  },
  {
   "cell_type": "code",
   "execution_count": 29,
   "id": "2c55ea78-4080-4eee-b069-dcc86195573a",
   "metadata": {},
   "outputs": [
    {
     "data": {
      "text/plain": [
       "array([0.00937021, 0.04458985, 0.01497752, ..., 0.0277472 , 0.10993538,\n",
       "       0.01419185], dtype=float32)"
      ]
     },
     "execution_count": 29,
     "metadata": {},
     "output_type": "execute_result"
    }
   ],
   "source": [
    "y_test_probs = y_test_preds.cpu().numpy()\n",
    "y_test_probs = y_test_probs.flatten()\n",
    "y_test_probs"
   ]
  },
  {
   "cell_type": "code",
   "execution_count": 30,
   "id": "8cf5d969-2de1-47ea-ba5e-68f446461781",
   "metadata": {},
   "outputs": [
    {
     "data": {
      "text/html": [
       "<div>\n",
       "<style scoped>\n",
       "    .dataframe tbody tr th:only-of-type {\n",
       "        vertical-align: middle;\n",
       "    }\n",
       "\n",
       "    .dataframe tbody tr th {\n",
       "        vertical-align: top;\n",
       "    }\n",
       "\n",
       "    .dataframe thead th {\n",
       "        text-align: right;\n",
       "    }\n",
       "</style>\n",
       "<table border=\"1\" class=\"dataframe\">\n",
       "  <thead>\n",
       "    <tr style=\"text-align: right;\">\n",
       "      <th></th>\n",
       "      <th>apply_promo</th>\n",
       "    </tr>\n",
       "  </thead>\n",
       "  <tbody>\n",
       "    <tr>\n",
       "      <th>0</th>\n",
       "      <td>0.009370</td>\n",
       "    </tr>\n",
       "    <tr>\n",
       "      <th>1</th>\n",
       "      <td>0.044590</td>\n",
       "    </tr>\n",
       "    <tr>\n",
       "      <th>2</th>\n",
       "      <td>0.014978</td>\n",
       "    </tr>\n",
       "    <tr>\n",
       "      <th>3</th>\n",
       "      <td>0.019362</td>\n",
       "    </tr>\n",
       "    <tr>\n",
       "      <th>4</th>\n",
       "      <td>0.041147</td>\n",
       "    </tr>\n",
       "    <tr>\n",
       "      <th>...</th>\n",
       "      <td>...</td>\n",
       "    </tr>\n",
       "    <tr>\n",
       "      <th>6801</th>\n",
       "      <td>0.008575</td>\n",
       "    </tr>\n",
       "    <tr>\n",
       "      <th>6802</th>\n",
       "      <td>0.023508</td>\n",
       "    </tr>\n",
       "    <tr>\n",
       "      <th>6803</th>\n",
       "      <td>0.027747</td>\n",
       "    </tr>\n",
       "    <tr>\n",
       "      <th>6804</th>\n",
       "      <td>0.109935</td>\n",
       "    </tr>\n",
       "    <tr>\n",
       "      <th>6805</th>\n",
       "      <td>0.014192</td>\n",
       "    </tr>\n",
       "  </tbody>\n",
       "</table>\n",
       "<p>6806 rows × 1 columns</p>\n",
       "</div>"
      ],
      "text/plain": [
       "      apply_promo\n",
       "0        0.009370\n",
       "1        0.044590\n",
       "2        0.014978\n",
       "3        0.019362\n",
       "4        0.041147\n",
       "...           ...\n",
       "6801     0.008575\n",
       "6802     0.023508\n",
       "6803     0.027747\n",
       "6804     0.109935\n",
       "6805     0.014192\n",
       "\n",
       "[6806 rows x 1 columns]"
      ]
     },
     "execution_count": 30,
     "metadata": {},
     "output_type": "execute_result"
    }
   ],
   "source": [
    "result_df = pd.DataFrame({'apply_promo': y_test_probs})\n",
    "result_df.to_csv(dir + 'submit.csv', index=False)  # 0.69 площадь под кривой\n",
    "result_df"
   ]
  },
  {
   "cell_type": "markdown",
   "id": "b7f5188a-9ca2-49b8-89b3-92ebd9533e2a",
   "metadata": {},
   "source": [
    "# Аугментация, Гауссов шум"
   ]
  },
  {
   "cell_type": "code",
   "execution_count": 31,
   "id": "cd2c9010-808c-4d98-93fa-15e2fef6a7f6",
   "metadata": {},
   "outputs": [
    {
     "name": "stdout",
     "output_type": "stream",
     "text": [
      "Размерность тренировочной выборки: (20805, 22)\n",
      "Размерность валидационной: (6936, 22)\n",
      "Размерность тестовой: (6806, 22)\n"
     ]
    }
   ],
   "source": [
    "X = train_features_target_clean.drop('apply_promo', axis=1)\n",
    "y = train_features_target_clean['apply_promo']\n",
    "\n",
    "# разбиваем тренировочную выборку на тренировочную и валидационную в соотношении 75/25\n",
    "X_train, X_val, y_train, y_val = train_test_split(X, y, random_state=42)\n",
    "\n",
    "y_train.value_counts()\n",
    "\n",
    "X_test = test_features_filled.copy()\n",
    "\n",
    "print(f'Размерность тренировочной выборки: {X_train.shape}')\n",
    "print(f'Размерность валидационной: {X_val.shape}')\n",
    "print(f'Размерность тестовой: {X_test.shape}')"
   ]
  },
  {
   "cell_type": "code",
   "execution_count": 32,
   "id": "0501c5c8-e266-4479-8722-6413c2d25632",
   "metadata": {},
   "outputs": [],
   "source": [
    "# Стандартизация\n",
    "scaler = StandardScaler()\n",
    "\n",
    "X_train = scaler.fit_transform(X_train)\n",
    "X_val = scaler.transform(X_val)\n",
    "X_test = scaler.transform(X_test)"
   ]
  },
  {
   "cell_type": "code",
   "execution_count": 33,
   "id": "0d201284-ca5f-48f4-a7a9-a42ef933e4ca",
   "metadata": {},
   "outputs": [],
   "source": [
    "# Преобразование данных в тензоры\n",
    "X_train = torch.Tensor(X_train).float()\n",
    "y_train = torch.Tensor(y_train.values).long()\n",
    "X_val = torch.Tensor(X_val).float()\n",
    "y_val = torch.Tensor(y_val.values).long()\n",
    "X_test = torch.Tensor(X_test).float()"
   ]
  },
  {
   "cell_type": "code",
   "execution_count": 34,
   "id": "2adb5c4a-3838-4aff-9db8-03c4c56aadf1",
   "metadata": {},
   "outputs": [],
   "source": [
    "# Архитектура, предусматривающиая добавление гауссовского шума в данные \n",
    "class NoisyClassifier(nn.Module):\n",
    "    def __init__(self):\n",
    "        super(NoisyClassifier, self).__init__()\n",
    "        self.linear1 = nn.Linear(in_features=22, out_features=128)\n",
    "        self.tanh = nn.Tanh()\n",
    "        self.relu = nn.ReLU()\n",
    "        self.linear2 = nn.Linear(in_features=128, out_features=1)\n",
    "        self.sigmoid = nn.Sigmoid()\n",
    "        self.noise_std = 0.01  # Стандартное отклонение шума\n",
    "\n",
    "    def forward(self, x):\n",
    "        # Добавляем гауссовский шум к входным данным\n",
    "        noise = torch.randn_like(x) * self.noise_std\n",
    "        x = x + noise\n",
    "\n",
    "        x = self.relu(self.tanh(self.linear1(x)))\n",
    "        x = self.sigmoid(self.linear2(x))\n",
    "        return x\n",
    "\n",
    "# Пример создания и использования модели\n",
    "model = NoisyClassifier()"
   ]
  },
  {
   "cell_type": "code",
   "execution_count": 35,
   "id": "d430f41f-595c-440d-84f3-ba2ec84a0f02",
   "metadata": {},
   "outputs": [],
   "source": [
    "# Используем BCELoss вместо CrossEntropyLoss\n",
    "loss_fn = nn.BCELoss()\n",
    "\n",
    "# Пример вашего кода тренировки\n",
    "optimizer = torch.optim.Adam(model.parameters(), lr=0.00005)"
   ]
  },
  {
   "cell_type": "code",
   "execution_count": 36,
   "id": "d73842f7-9a1a-4b06-b5b3-9d353441cee3",
   "metadata": {},
   "outputs": [],
   "source": [
    "y_train = y_train.float()\n",
    "y_val = y_val.float()"
   ]
  },
  {
   "cell_type": "code",
   "execution_count": 37,
   "id": "860a6d7e-25b6-4fbe-b51e-bc87235e9807",
   "metadata": {},
   "outputs": [
    {
     "name": "stdout",
     "output_type": "stream",
     "text": [
      "Epoch 0, Loss: 0.6483821272850037\n",
      "Epoch 100, Loss: 0.5851524472236633\n",
      "Epoch 200, Loss: 0.5287001729011536\n",
      "Epoch 300, Loss: 0.4780443608760834\n",
      "Epoch 400, Loss: 0.4324615001678467\n",
      "Epoch 500, Loss: 0.3914560079574585\n",
      "Epoch 600, Loss: 0.3549192547798157\n",
      "Epoch 700, Loss: 0.3224870562553406\n",
      "Epoch 800, Loss: 0.29397234320640564\n",
      "Epoch 900, Loss: 0.2691112458705902\n",
      "Epoch 1000, Loss: 0.2475307136774063\n",
      "Epoch 1100, Loss: 0.22894485294818878\n",
      "Epoch 1200, Loss: 0.21300600469112396\n",
      "Epoch 1300, Loss: 0.19934295117855072\n",
      "Epoch 1400, Loss: 0.18773461878299713\n",
      "Epoch 1500, Loss: 0.1778729408979416\n",
      "Epoch 1600, Loss: 0.1694919615983963\n",
      "Epoch 1700, Loss: 0.1623481959104538\n",
      "Epoch 1800, Loss: 0.15631583333015442\n",
      "Epoch 1900, Loss: 0.15119662880897522\n",
      "Epoch 2000, Loss: 0.14683447778224945\n",
      "Epoch 2100, Loss: 0.14313240349292755\n",
      "Epoch 2200, Loss: 0.13997456431388855\n",
      "Epoch 2300, Loss: 0.13728277385234833\n",
      "Epoch 2400, Loss: 0.13497869670391083\n",
      "Epoch 2500, Loss: 0.13302181661128998\n",
      "Epoch 2600, Loss: 0.13132567703723907\n",
      "Epoch 2700, Loss: 0.12988083064556122\n",
      "Epoch 2800, Loss: 0.12862946093082428\n",
      "Epoch 2900, Loss: 0.12753185629844666\n",
      "Epoch 3000, Loss: 0.12658219039440155\n",
      "Epoch 3100, Loss: 0.12576401233673096\n",
      "Epoch 3200, Loss: 0.1250515729188919\n",
      "Epoch 3300, Loss: 0.12443955987691879\n",
      "Epoch 3400, Loss: 0.1238507479429245\n",
      "Epoch 3500, Loss: 0.12337082624435425\n",
      "Epoch 3600, Loss: 0.12290126830339432\n",
      "Epoch 3700, Loss: 0.1224823147058487\n",
      "Epoch 3800, Loss: 0.12214330583810806\n",
      "Epoch 3900, Loss: 0.12178816646337509\n",
      "Epoch 4000, Loss: 0.1214747428894043\n",
      "Epoch 4100, Loss: 0.1211712583899498\n",
      "Epoch 4200, Loss: 0.12088834494352341\n",
      "Epoch 4300, Loss: 0.12061310559511185\n",
      "Epoch 4400, Loss: 0.12034394592046738\n",
      "Epoch 4500, Loss: 0.12010906636714935\n",
      "Epoch 4600, Loss: 0.11982317268848419\n",
      "Epoch 4700, Loss: 0.11961754411458969\n",
      "Epoch 4800, Loss: 0.11939755827188492\n",
      "Epoch 4900, Loss: 0.119176484644413\n",
      "Epoch 5000, Loss: 0.11895035952329636\n",
      "Epoch 5100, Loss: 0.11872751265764236\n",
      "Epoch 5200, Loss: 0.11853938549757004\n",
      "Epoch 5300, Loss: 0.11830945312976837\n",
      "Epoch 5400, Loss: 0.11812704801559448\n",
      "Epoch 5500, Loss: 0.11791174113750458\n",
      "Epoch 5600, Loss: 0.11769890040159225\n",
      "Epoch 5700, Loss: 0.11753223091363907\n",
      "Epoch 5800, Loss: 0.11733990907669067\n",
      "Epoch 5900, Loss: 0.11711420863866806\n",
      "Epoch 6000, Loss: 0.11692984402179718\n",
      "Epoch 6100, Loss: 0.11675484478473663\n",
      "Epoch 6200, Loss: 0.11653295904397964\n",
      "Epoch 6300, Loss: 0.1163414865732193\n",
      "Epoch 6400, Loss: 0.11616069078445435\n",
      "Epoch 6500, Loss: 0.11590508371591568\n",
      "Epoch 6600, Loss: 0.1156947985291481\n",
      "Epoch 6700, Loss: 0.115489661693573\n",
      "Epoch 6800, Loss: 0.11530235409736633\n",
      "Epoch 6900, Loss: 0.11509429663419724\n",
      "Epoch 7000, Loss: 0.11489619314670563\n",
      "Epoch 7100, Loss: 0.11469525843858719\n",
      "Epoch 7200, Loss: 0.11444362252950668\n",
      "Epoch 7300, Loss: 0.11423858255147934\n",
      "Epoch 7400, Loss: 0.11404626071453094\n",
      "Epoch 7500, Loss: 0.11385557055473328\n",
      "Epoch 7600, Loss: 0.11359497904777527\n",
      "Epoch 7700, Loss: 0.11337099969387054\n",
      "Epoch 7800, Loss: 0.11313848197460175\n",
      "Epoch 7900, Loss: 0.11291276663541794\n",
      "Epoch 8000, Loss: 0.11271441727876663\n",
      "Epoch 8100, Loss: 0.11241862922906876\n",
      "Epoch 8200, Loss: 0.11220162361860275\n",
      "Epoch 8300, Loss: 0.11191771179437637\n",
      "Epoch 8400, Loss: 0.11169814318418503\n",
      "Epoch 8500, Loss: 0.11143597960472107\n",
      "Epoch 8600, Loss: 0.11117732524871826\n",
      "Epoch 8700, Loss: 0.11093433201313019\n",
      "Epoch 8800, Loss: 0.11069519817829132\n",
      "Epoch 8900, Loss: 0.11045186966657639\n",
      "Epoch 9000, Loss: 0.11014103144407272\n",
      "Epoch 9100, Loss: 0.10985507816076279\n",
      "Epoch 9200, Loss: 0.10962122678756714\n",
      "Epoch 9300, Loss: 0.10934408754110336\n",
      "Epoch 9400, Loss: 0.10905908048152924\n",
      "Epoch 9500, Loss: 0.10875498503446579\n",
      "Epoch 9600, Loss: 0.10852669924497604\n",
      "Epoch 9700, Loss: 0.10829057544469833\n",
      "Epoch 9800, Loss: 0.10796307772397995\n",
      "Epoch 9900, Loss: 0.107728511095047\n",
      "tensor([[0.0663],\n",
      "        [0.4823],\n",
      "        [0.0139],\n",
      "        ...,\n",
      "        [0.0119],\n",
      "        [0.0083],\n",
      "        [0.0284]]) tensor(0.1211)\n"
     ]
    }
   ],
   "source": [
    "trained_model = train(model, X_train, y_train, loss_fn, optimizer, epochs=10000)\n",
    "y_preds, val_loss = evaluate(trained_model, X_val, y_val, loss_fn)\n",
    "print(y_preds, val_loss)"
   ]
  },
  {
   "cell_type": "code",
   "execution_count": 38,
   "id": "63feeee4-7fe0-48d3-adaa-fd6505e85383",
   "metadata": {},
   "outputs": [
    {
     "name": "stdout",
     "output_type": "stream",
     "text": [
      "accuracy: 0.9568915801614764\n"
     ]
    }
   ],
   "source": [
    "y_pred = evaluate(trained_model, X_val, y_val, loss_fn)\n",
    "# Функция evaluate возвращает кортеж (output, loss), поэтому нужно получить только output\n",
    "y_preds, val_loss = evaluate(trained_model, X_val, y_val, loss_fn)\n",
    "\n",
    "# Преобразование вероятностей в бинарные метки (0 или 1)\n",
    "# Предполагаем, что порог для бинарной классификации равен 0.5\n",
    "y_pred_labels = (y_preds >= 0.155).float()\n",
    "\n",
    "# Вызов функции accuracy_score на векторе предсказанных меток и векторе истинных меток\n",
    "acc = accuracy_score(y_val, y_pred_labels)\n",
    "\n",
    "# Вывод значения accuracy\n",
    "print(f'accuracy: {acc}')"
   ]
  },
  {
   "cell_type": "code",
   "execution_count": 39,
   "id": "dc299eb8-44d8-4511-8226-9ef250639518",
   "metadata": {},
   "outputs": [
    {
     "name": "stdout",
     "output_type": "stream",
     "text": [
      "Number of unique labels: 2\n",
      "Unique labels: tensor([0., 1.])\n",
      "Number of class 1: 151\n"
     ]
    }
   ],
   "source": [
    "# Получение уникальных значений в тензоре\n",
    "unique_labels = torch.unique(y_pred_labels)\n",
    "\n",
    "# Подсчет количества уникальных значений\n",
    "num_unique_labels = len(unique_labels)\n",
    "\n",
    "print(f'Number of unique labels: {num_unique_labels}')\n",
    "print(f'Unique labels: {unique_labels}')\n",
    "\n",
    "num_ones = torch.sum(y_pred_labels)\n",
    "\n",
    "print(f'Number of class 1: {int(num_ones)}')"
   ]
  },
  {
   "cell_type": "code",
   "execution_count": 40,
   "id": "8fc5a944-b0a0-4917-a113-c77252bb730e",
   "metadata": {},
   "outputs": [],
   "source": [
    "# Находится ли модель в режиме оценки?\n",
    "model.eval()\n",
    "# Применение модели к тестовым данным и получаем предсказанные вероятности\n",
    "with torch.no_grad():\n",
    "    y_test_preds = model(X_test)"
   ]
  },
  {
   "cell_type": "code",
   "execution_count": 41,
   "id": "06fbca69-b504-4ecb-a3b2-1f3f7d49df03",
   "metadata": {},
   "outputs": [
    {
     "data": {
      "text/html": [
       "<div>\n",
       "<style scoped>\n",
       "    .dataframe tbody tr th:only-of-type {\n",
       "        vertical-align: middle;\n",
       "    }\n",
       "\n",
       "    .dataframe tbody tr th {\n",
       "        vertical-align: top;\n",
       "    }\n",
       "\n",
       "    .dataframe thead th {\n",
       "        text-align: right;\n",
       "    }\n",
       "</style>\n",
       "<table border=\"1\" class=\"dataframe\">\n",
       "  <thead>\n",
       "    <tr style=\"text-align: right;\">\n",
       "      <th></th>\n",
       "      <th>apply_promo</th>\n",
       "    </tr>\n",
       "  </thead>\n",
       "  <tbody>\n",
       "    <tr>\n",
       "      <th>0</th>\n",
       "      <td>0.010644</td>\n",
       "    </tr>\n",
       "    <tr>\n",
       "      <th>1</th>\n",
       "      <td>0.099313</td>\n",
       "    </tr>\n",
       "    <tr>\n",
       "      <th>2</th>\n",
       "      <td>0.016976</td>\n",
       "    </tr>\n",
       "    <tr>\n",
       "      <th>3</th>\n",
       "      <td>0.021082</td>\n",
       "    </tr>\n",
       "    <tr>\n",
       "      <th>4</th>\n",
       "      <td>0.028647</td>\n",
       "    </tr>\n",
       "    <tr>\n",
       "      <th>...</th>\n",
       "      <td>...</td>\n",
       "    </tr>\n",
       "    <tr>\n",
       "      <th>6801</th>\n",
       "      <td>0.009495</td>\n",
       "    </tr>\n",
       "    <tr>\n",
       "      <th>6802</th>\n",
       "      <td>0.014896</td>\n",
       "    </tr>\n",
       "    <tr>\n",
       "      <th>6803</th>\n",
       "      <td>0.028973</td>\n",
       "    </tr>\n",
       "    <tr>\n",
       "      <th>6804</th>\n",
       "      <td>0.126811</td>\n",
       "    </tr>\n",
       "    <tr>\n",
       "      <th>6805</th>\n",
       "      <td>0.012177</td>\n",
       "    </tr>\n",
       "  </tbody>\n",
       "</table>\n",
       "<p>6806 rows × 1 columns</p>\n",
       "</div>"
      ],
      "text/plain": [
       "      apply_promo\n",
       "0        0.010644\n",
       "1        0.099313\n",
       "2        0.016976\n",
       "3        0.021082\n",
       "4        0.028647\n",
       "...           ...\n",
       "6801     0.009495\n",
       "6802     0.014896\n",
       "6803     0.028973\n",
       "6804     0.126811\n",
       "6805     0.012177\n",
       "\n",
       "[6806 rows x 1 columns]"
      ]
     },
     "execution_count": 41,
     "metadata": {},
     "output_type": "execute_result"
    }
   ],
   "source": [
    "y_test_probs = y_test_preds.cpu().numpy()\n",
    "y_test_probs = y_test_probs.flatten()\n",
    "\n",
    "result_df = pd.DataFrame({'apply_promo': y_test_probs})\n",
    "result_df.to_csv(dir + 'submit.csv', index=False)  # 0.69 для train_features_target_filled, 0.68 для train_features_target_clean\n",
    "result_df"
   ]
  },
  {
   "cell_type": "markdown",
   "id": "0c14b33e-08df-49e6-98f0-ed894f90b5de",
   "metadata": {},
   "source": [
    "# Стэк"
   ]
  },
  {
   "cell_type": "code",
   "execution_count": 42,
   "id": "cbb0417c-8e60-4513-a37c-ea6ef19371be",
   "metadata": {},
   "outputs": [
    {
     "name": "stdout",
     "output_type": "stream",
     "text": [
      "Размерность тренировочной выборки: (20805, 22)\n",
      "Размерность валидационной: (6936, 22)\n",
      "Размерность тестовой: (6806, 22)\n"
     ]
    }
   ],
   "source": [
    "X = train_features_target_clean.drop('apply_promo', axis=1)\n",
    "y = train_features_target_clean['apply_promo']\n",
    "\n",
    "# разбиваем тренировочную выборку на тренировочную и валидационную в соотношении 75/25\n",
    "X_train, X_val, y_train, y_val = train_test_split(X, y, random_state=42)\n",
    "\n",
    "y_train.value_counts()\n",
    "\n",
    "X_test = test_features_filled.copy()\n",
    "\n",
    "print(f'Размерность тренировочной выборки: {X_train.shape}')\n",
    "print(f'Размерность валидационной: {X_val.shape}')\n",
    "print(f'Размерность тестовой: {X_test.shape}')"
   ]
  },
  {
   "cell_type": "code",
   "execution_count": 43,
   "id": "38407d71-ecd4-488c-b533-7fea47cf3168",
   "metadata": {},
   "outputs": [],
   "source": [
    "# Стандартизация данных\n",
    "scaler = StandardScaler()\n",
    "X_train_scaled = scaler.fit_transform(X_train)\n",
    "X_val_scaled = scaler.transform(X_val)\n",
    "X_test_scaled = scaler.transform(X_test)"
   ]
  },
  {
   "cell_type": "code",
   "execution_count": 44,
   "id": "2f8eaca1-8f7e-4574-926e-b4893e8a7a69",
   "metadata": {},
   "outputs": [],
   "source": [
    "# Обучение линейной регрессии\n",
    "lr = LinearRegression()\n",
    "lr.fit(X_train_scaled, y_train)\n",
    "lr_train_preds = lr.predict(X_train_scaled)\n",
    "lr_val_preds = lr.predict(X_val_scaled)\n",
    "lr_test_preds = lr.predict(X_test_scaled)"
   ]
  },
  {
   "cell_type": "code",
   "execution_count": 45,
   "id": "14186744-d518-4037-ae30-5ce865228d4a",
   "metadata": {},
   "outputs": [
    {
     "name": "stdout",
     "output_type": "stream",
     "text": [
      "20805 6936 6806\n"
     ]
    }
   ],
   "source": [
    "# Обучение градиентного бустинга\n",
    "gb = GradientBoostingClassifier()\n",
    "gb.fit(X_train, y_train)\n",
    "gb_train_preds = gb.predict_proba(X_train)[:, 1]\n",
    "gb_val_preds = gb.predict_proba(X_val)[:, 1]\n",
    "gb_test_preds = gb.predict_proba(X_test)[:, 1]\n",
    "print(len(gb_train_preds), len(gb_val_preds), len(gb_test_preds))"
   ]
  },
  {
   "cell_type": "code",
   "execution_count": 46,
   "id": "e6548aca-9b0f-43e9-8621-71f5565bae60",
   "metadata": {},
   "outputs": [],
   "source": [
    "# Добавляем предсказания базовых моделей в качестве новых признаков\n",
    "X_train_stack = np.column_stack((X_train_scaled, lr_train_preds, gb_train_preds))\n",
    "X_val_stack = np.column_stack((X_val_scaled, lr_val_preds, gb_val_preds))\n",
    "X_test_stack = np.column_stack((X_test_scaled, lr_test_preds, gb_test_preds))"
   ]
  },
  {
   "cell_type": "code",
   "execution_count": 47,
   "id": "5f70e63a-4f9d-4f9b-b965-db103c7dbf86",
   "metadata": {
    "scrolled": true
   },
   "outputs": [],
   "source": [
    "# Преобразование в тензоры\n",
    "X_train = torch.tensor(X_train_stack, dtype=torch.float32)\n",
    "X_val = torch.tensor(X_val_stack, dtype=torch.float32)\n",
    "y_train = torch.tensor(y_train.values, dtype=torch.float32)\n",
    "y_val = torch.tensor(y_val.values, dtype=torch.float32)\n",
    "X_test = torch.tensor(X_test_stack, dtype=torch.float32)"
   ]
  },
  {
   "cell_type": "code",
   "execution_count": 48,
   "id": "ee87b218-bdda-477e-b585-b44f9724bd6f",
   "metadata": {},
   "outputs": [],
   "source": [
    "# Архитектура, предусматривающиая добавление гауссовского шума в данные \n",
    "class NoisyClassifier(nn.Module):\n",
    "    def __init__(self):\n",
    "        super(NoisyClassifier, self).__init__()\n",
    "        self.linear1 = nn.Linear(in_features=24, out_features=128)\n",
    "        self.tanh = nn.Tanh()\n",
    "        self.relu = nn.ReLU()\n",
    "        self.linear2 = nn.Linear(in_features=128, out_features=1)\n",
    "        self.sigmoid = nn.Sigmoid()\n",
    "        self.noise_std = 0.01  # Стандартное отклонение шума\n",
    "\n",
    "    def forward(self, x):\n",
    "        # Добавляем гауссовский шум к входным данным\n",
    "        noise = torch.randn_like(x) * self.noise_std\n",
    "        x = x + noise\n",
    "\n",
    "        x = self.relu(self.tanh(self.linear1(x)))\n",
    "        x = self.sigmoid(self.linear2(x))\n",
    "        return x\n",
    "\n",
    "# Пример создания и использования модели\n",
    "model = NoisyClassifier()"
   ]
  },
  {
   "cell_type": "code",
   "execution_count": 49,
   "id": "23b786ef-afe2-488f-a623-3ba231cb2308",
   "metadata": {},
   "outputs": [],
   "source": [
    "# Используем BCELoss вместо CrossEntropyLoss\n",
    "loss_fn = nn.BCELoss()\n",
    "\n",
    "# Пример вашего кода тренировки\n",
    "optimizer = torch.optim.Adam(model.parameters(), lr=0.00005)"
   ]
  },
  {
   "cell_type": "code",
   "execution_count": 50,
   "id": "4759bc76-5693-4242-a789-dfc91c476b62",
   "metadata": {},
   "outputs": [
    {
     "name": "stdout",
     "output_type": "stream",
     "text": [
      "Epoch 0, Loss: 0.6655389070510864\n",
      "Epoch 100, Loss: 0.6005568504333496\n",
      "Epoch 200, Loss: 0.5429885983467102\n",
      "Epoch 300, Loss: 0.49143290519714355\n",
      "Epoch 400, Loss: 0.44496411085128784\n",
      "Epoch 500, Loss: 0.40324801206588745\n",
      "Epoch 600, Loss: 0.3658655285835266\n",
      "Epoch 700, Loss: 0.33256796002388\n",
      "Epoch 800, Loss: 0.3030105233192444\n",
      "Epoch 900, Loss: 0.27690255641937256\n",
      "Epoch 1000, Loss: 0.2541877329349518\n",
      "Epoch 1100, Loss: 0.23459042608737946\n",
      "Epoch 1200, Loss: 0.21780262887477875\n",
      "Epoch 1300, Loss: 0.20344695448875427\n",
      "Epoch 1400, Loss: 0.19127260148525238\n",
      "Epoch 1500, Loss: 0.1809135526418686\n",
      "Epoch 1600, Loss: 0.17214606702327728\n",
      "Epoch 1700, Loss: 0.1647043228149414\n",
      "Epoch 1800, Loss: 0.15839092433452606\n",
      "Epoch 1900, Loss: 0.1530269980430603\n",
      "Epoch 2000, Loss: 0.14848122000694275\n",
      "Epoch 2100, Loss: 0.14460425078868866\n",
      "Epoch 2200, Loss: 0.14129075407981873\n",
      "Epoch 2300, Loss: 0.13846206665039062\n",
      "Epoch 2400, Loss: 0.13601313531398773\n",
      "Epoch 2500, Loss: 0.13394103944301605\n",
      "Epoch 2600, Loss: 0.13214343786239624\n",
      "Epoch 2700, Loss: 0.13052873313426971\n",
      "Epoch 2800, Loss: 0.1292302906513214\n",
      "Epoch 2900, Loss: 0.12803398072719574\n",
      "Epoch 3000, Loss: 0.1269562989473343\n",
      "Epoch 3100, Loss: 0.12608258426189423\n",
      "Epoch 3200, Loss: 0.12524935603141785\n",
      "Epoch 3300, Loss: 0.1245327815413475\n",
      "Epoch 3400, Loss: 0.12390878796577454\n",
      "Epoch 3500, Loss: 0.12334048748016357\n",
      "Epoch 3600, Loss: 0.12281385064125061\n",
      "Epoch 3700, Loss: 0.12229457497596741\n",
      "Epoch 3800, Loss: 0.12186063826084137\n",
      "Epoch 3900, Loss: 0.12145329266786575\n",
      "Epoch 4000, Loss: 0.12106164544820786\n",
      "Epoch 4100, Loss: 0.12069736421108246\n",
      "Epoch 4200, Loss: 0.12036672979593277\n",
      "Epoch 4300, Loss: 0.12003381550312042\n",
      "Epoch 4400, Loss: 0.11969403177499771\n",
      "Epoch 4500, Loss: 0.11939623206853867\n",
      "Epoch 4600, Loss: 0.11909527331590652\n",
      "Epoch 4700, Loss: 0.11881376802921295\n",
      "Epoch 4800, Loss: 0.11853329837322235\n",
      "Epoch 4900, Loss: 0.11828509718179703\n",
      "Epoch 5000, Loss: 0.11798959225416183\n",
      "Epoch 5100, Loss: 0.11771739274263382\n",
      "Epoch 5200, Loss: 0.11743447184562683\n",
      "Epoch 5300, Loss: 0.1171911358833313\n",
      "Epoch 5400, Loss: 0.1169527918100357\n",
      "Epoch 5500, Loss: 0.11666864156723022\n",
      "Epoch 5600, Loss: 0.11643611639738083\n",
      "Epoch 5700, Loss: 0.11616203933954239\n",
      "Epoch 5800, Loss: 0.11590638756752014\n",
      "Epoch 5900, Loss: 0.11567086726427078\n",
      "Epoch 6000, Loss: 0.11539743095636368\n",
      "Epoch 6100, Loss: 0.1151423305273056\n",
      "Epoch 6200, Loss: 0.11490153521299362\n",
      "Epoch 6300, Loss: 0.11461745947599411\n",
      "Epoch 6400, Loss: 0.11433818191289902\n",
      "Epoch 6500, Loss: 0.11409160494804382\n",
      "Epoch 6600, Loss: 0.11383165419101715\n",
      "Epoch 6700, Loss: 0.11359670013189316\n",
      "Epoch 6800, Loss: 0.11331206560134888\n",
      "Epoch 6900, Loss: 0.11300307512283325\n",
      "Epoch 7000, Loss: 0.11278215050697327\n",
      "Epoch 7100, Loss: 0.11245054006576538\n",
      "Epoch 7200, Loss: 0.11224385350942612\n",
      "Epoch 7300, Loss: 0.11200185865163803\n",
      "Epoch 7400, Loss: 0.11172391474246979\n",
      "Epoch 7500, Loss: 0.11144853383302689\n",
      "Epoch 7600, Loss: 0.11112869530916214\n",
      "Epoch 7700, Loss: 0.11084233224391937\n",
      "Epoch 7800, Loss: 0.11059782654047012\n",
      "Epoch 7900, Loss: 0.11026646196842194\n",
      "Epoch 8000, Loss: 0.10997695475816727\n",
      "Epoch 8100, Loss: 0.1096661165356636\n",
      "Epoch 8200, Loss: 0.1093362495303154\n",
      "Epoch 8300, Loss: 0.10908502340316772\n",
      "Epoch 8400, Loss: 0.10873759537935257\n",
      "Epoch 8500, Loss: 0.10843556374311447\n",
      "Epoch 8600, Loss: 0.10811121761798859\n",
      "Epoch 8700, Loss: 0.10778351873159409\n",
      "Epoch 8800, Loss: 0.10743561387062073\n",
      "Epoch 8900, Loss: 0.10715291649103165\n",
      "Epoch 9000, Loss: 0.10677781701087952\n",
      "Epoch 9100, Loss: 0.1064264178276062\n",
      "Epoch 9200, Loss: 0.10612692683935165\n",
      "Epoch 9300, Loss: 0.10575007647275925\n",
      "Epoch 9400, Loss: 0.10535377264022827\n",
      "Epoch 9500, Loss: 0.10504244267940521\n",
      "Epoch 9600, Loss: 0.10462724417448044\n",
      "Epoch 9700, Loss: 0.10426869988441467\n",
      "Epoch 9800, Loss: 0.10396966338157654\n",
      "Epoch 9900, Loss: 0.10362343490123749\n",
      "tensor([[0.0942],\n",
      "        [0.3157],\n",
      "        [0.0160],\n",
      "        ...,\n",
      "        [0.0117],\n",
      "        [0.0060],\n",
      "        [0.0254]]) tensor(0.1194)\n"
     ]
    }
   ],
   "source": [
    "trained_model = train(model, X_train, y_train, loss_fn, optimizer, epochs=10000)\n",
    "y_preds, val_loss = evaluate(trained_model, X_val, y_val, loss_fn)\n",
    "print(y_preds, val_loss)"
   ]
  },
  {
   "cell_type": "code",
   "execution_count": 51,
   "id": "033f15fa-1001-4920-bd43-1b317d24f826",
   "metadata": {},
   "outputs": [
    {
     "name": "stdout",
     "output_type": "stream",
     "text": [
      "accuracy: 0.959919261822376\n"
     ]
    }
   ],
   "source": [
    "y_pred = evaluate(trained_model, X_val, y_val, loss_fn)\n",
    "# Функция evaluate возвращает кортеж (output, loss), поэтому нужно получить только output\n",
    "y_preds, val_loss = evaluate(trained_model, X_val, y_val, loss_fn)\n",
    "\n",
    "# Преобразование вероятностей в бинарные метки (0 или 1)\n",
    "# Предполагаем, что порог для бинарной классификации равен 0.5\n",
    "y_pred_labels = (y_preds >= 0.155).float()\n",
    "\n",
    "# Вызов функции accuracy_score на векторе предсказанных меток и векторе истинных меток\n",
    "acc = accuracy_score(y_val, y_pred_labels)\n",
    "\n",
    "# Вывод значения accuracy\n",
    "print(f'accuracy: {acc}')"
   ]
  },
  {
   "cell_type": "code",
   "execution_count": 52,
   "id": "7cd070b6-9e0e-4121-a574-fcff9732fecf",
   "metadata": {},
   "outputs": [
    {
     "name": "stdout",
     "output_type": "stream",
     "text": [
      "Number of unique labels: 2\n",
      "Unique labels: tensor([0., 1.])\n",
      "Number of class 1: 138\n"
     ]
    }
   ],
   "source": [
    "# Получение уникальных значений в тензоре\n",
    "unique_labels = torch.unique(y_pred_labels)\n",
    "\n",
    "# Подсчет количества уникальных значений\n",
    "num_unique_labels = len(unique_labels)\n",
    "\n",
    "print(f'Number of unique labels: {num_unique_labels}')\n",
    "print(f'Unique labels: {unique_labels}')\n",
    "\n",
    "num_ones = torch.sum(y_pred_labels)\n",
    "\n",
    "print(f'Number of class 1: {int(num_ones)}')"
   ]
  },
  {
   "cell_type": "code",
   "execution_count": 53,
   "id": "1f3126b5-6eb6-48fd-86ca-8182b0672541",
   "metadata": {},
   "outputs": [],
   "source": [
    "# Находится ли модель в режиме оценки?\n",
    "model.eval()\n",
    "# Применение модели к тестовым данным и получаем предсказанные вероятности\n",
    "with torch.no_grad():\n",
    "    y_test_preds = model(X_test)"
   ]
  },
  {
   "cell_type": "code",
   "execution_count": 54,
   "id": "7576b9e5-a980-4975-8ecf-cf2929e3e116",
   "metadata": {},
   "outputs": [
    {
     "data": {
      "text/html": [
       "<div>\n",
       "<style scoped>\n",
       "    .dataframe tbody tr th:only-of-type {\n",
       "        vertical-align: middle;\n",
       "    }\n",
       "\n",
       "    .dataframe tbody tr th {\n",
       "        vertical-align: top;\n",
       "    }\n",
       "\n",
       "    .dataframe thead th {\n",
       "        text-align: right;\n",
       "    }\n",
       "</style>\n",
       "<table border=\"1\" class=\"dataframe\">\n",
       "  <thead>\n",
       "    <tr style=\"text-align: right;\">\n",
       "      <th></th>\n",
       "      <th>apply_promo</th>\n",
       "    </tr>\n",
       "  </thead>\n",
       "  <tbody>\n",
       "    <tr>\n",
       "      <th>0</th>\n",
       "      <td>0.005683</td>\n",
       "    </tr>\n",
       "    <tr>\n",
       "      <th>1</th>\n",
       "      <td>0.049040</td>\n",
       "    </tr>\n",
       "    <tr>\n",
       "      <th>2</th>\n",
       "      <td>0.017462</td>\n",
       "    </tr>\n",
       "    <tr>\n",
       "      <th>3</th>\n",
       "      <td>0.019422</td>\n",
       "    </tr>\n",
       "    <tr>\n",
       "      <th>4</th>\n",
       "      <td>0.030647</td>\n",
       "    </tr>\n",
       "    <tr>\n",
       "      <th>...</th>\n",
       "      <td>...</td>\n",
       "    </tr>\n",
       "    <tr>\n",
       "      <th>6801</th>\n",
       "      <td>0.015290</td>\n",
       "    </tr>\n",
       "    <tr>\n",
       "      <th>6802</th>\n",
       "      <td>0.016208</td>\n",
       "    </tr>\n",
       "    <tr>\n",
       "      <th>6803</th>\n",
       "      <td>0.027059</td>\n",
       "    </tr>\n",
       "    <tr>\n",
       "      <th>6804</th>\n",
       "      <td>0.105610</td>\n",
       "    </tr>\n",
       "    <tr>\n",
       "      <th>6805</th>\n",
       "      <td>0.011470</td>\n",
       "    </tr>\n",
       "  </tbody>\n",
       "</table>\n",
       "<p>6806 rows × 1 columns</p>\n",
       "</div>"
      ],
      "text/plain": [
       "      apply_promo\n",
       "0        0.005683\n",
       "1        0.049040\n",
       "2        0.017462\n",
       "3        0.019422\n",
       "4        0.030647\n",
       "...           ...\n",
       "6801     0.015290\n",
       "6802     0.016208\n",
       "6803     0.027059\n",
       "6804     0.105610\n",
       "6805     0.011470\n",
       "\n",
       "[6806 rows x 1 columns]"
      ]
     },
     "execution_count": 54,
     "metadata": {},
     "output_type": "execute_result"
    }
   ],
   "source": [
    "y_test_probs = y_test_preds.cpu().numpy()\n",
    "y_test_probs = y_test_probs.flatten()\n",
    "\n",
    "result_df = pd.DataFrame({'apply_promo': y_test_probs})\n",
    "result_df.to_csv(dir + 'submit.csv', index=False)  # 0.69\n",
    "result_df"
   ]
  }
 ],
 "metadata": {
  "kernelspec": {
   "display_name": "Python 3 (ipykernel)",
   "language": "python",
   "name": "python3"
  },
  "language_info": {
   "codemirror_mode": {
    "name": "ipython",
    "version": 3
   },
   "file_extension": ".py",
   "mimetype": "text/x-python",
   "name": "python",
   "nbconvert_exporter": "python",
   "pygments_lexer": "ipython3",
   "version": "3.11.5"
  }
 },
 "nbformat": 4,
 "nbformat_minor": 5
}
